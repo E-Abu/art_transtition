{
 "cells": [
  {
   "cell_type": "code",
   "execution_count": 20,
   "metadata": {},
   "outputs": [],
   "source": [
    "import csv\n",
    "import numpy as np\n",
    "import pandas as pd\n",
    "\n",
    "file_name = '../data/artwork_transactions_sample.csv'\n",
    "artwork_transactions = pd.read_csv(file_name)\n"
   ]
  },
  {
   "cell_type": "code",
   "execution_count": 21,
   "metadata": {},
   "outputs": [],
   "source": [
    "artist_price = pd.read_csv('../data/artist_price.csv')"
   ]
  },
  {
   "cell_type": "code",
   "execution_count": 22,
   "metadata": {},
   "outputs": [
    {
     "name": "stdout",
     "output_type": "stream",
     "text": [
      "<class 'pandas.core.frame.DataFrame'>\n",
      "RangeIndex: 2312869 entries, 0 to 2312868\n",
      "Data columns (total 3 columns):\n",
      "id            int64\n",
      "calc_price    float64\n",
      "artist_id     int64\n",
      "dtypes: float64(1), int64(2)\n",
      "memory usage: 52.9 MB\n"
     ]
    }
   ],
   "source": [
    "artist_price.info()"
   ]
  },
  {
   "cell_type": "code",
   "execution_count": 28,
   "metadata": {},
   "outputs": [],
   "source": [
    "artist_price['calc_price'] = artist_price['calc_price'].fillna(0)\n",
    "artist_price = artist_price[artist_price.calc_price != 0]\n",
    "artist_price = artist_price.sort_values(by='artist_id')"
   ]
  },
  {
   "cell_type": "code",
   "execution_count": null,
   "metadata": {},
   "outputs": [],
   "source": [
    "def find_out_lables(column):\n",
    "    lables = []\n",
    "    for value in column:\n",
    "        if value not in lables:\n",
    "            lables.append(value)\n",
    "    #print(lables)\n",
    "    return lables\n",
    "\n",
    "artists = find_out_lables(artist_price['artist_id'])"
   ]
  },
  {
   "cell_type": "code",
   "execution_count": null,
   "metadata": {},
   "outputs": [],
   "source": [
    "len(artists)"
   ]
  },
  {
   "cell_type": "code",
   "execution_count": null,
   "metadata": {},
   "outputs": [],
   "source": [
    "artist_price.groupby('artist_id')['calc_price'].mean()"
   ]
  }
 ],
 "metadata": {
  "kernelspec": {
   "display_name": "Python 3",
   "language": "python",
   "name": "python3"
  },
  "language_info": {
   "codemirror_mode": {
    "name": "ipython",
    "version": 3
   },
   "file_extension": ".py",
   "mimetype": "text/x-python",
   "name": "python",
   "nbconvert_exporter": "python",
   "pygments_lexer": "ipython3",
   "version": "3.6.3"
  }
 },
 "nbformat": 4,
 "nbformat_minor": 2
}
