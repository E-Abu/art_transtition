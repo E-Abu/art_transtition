{
 "cells": [
  {
   "cell_type": "code",
   "execution_count": 1,
   "metadata": {},
   "outputs": [],
   "source": [
    "import csv\n",
    "import numpy as np\n",
    "import pandas as pd\n",
    "\n",
    "file_name = '../data/artwork_transactions_sample.csv'\n",
    "artwork_transactions = pd.read_csv(file_name)\n"
   ]
  },
  {
   "cell_type": "code",
   "execution_count": 14,
   "metadata": {},
   "outputs": [
    {
     "data": {
      "text/html": [
       "<div>\n",
       "<style scoped>\n",
       "    .dataframe tbody tr th:only-of-type {\n",
       "        vertical-align: middle;\n",
       "    }\n",
       "\n",
       "    .dataframe tbody tr th {\n",
       "        vertical-align: top;\n",
       "    }\n",
       "\n",
       "    .dataframe thead th {\n",
       "        text-align: right;\n",
       "    }\n",
       "</style>\n",
       "<table border=\"1\" class=\"dataframe\">\n",
       "  <thead>\n",
       "    <tr style=\"text-align: right;\">\n",
       "      <th></th>\n",
       "      <th>index</th>\n",
       "      <th>id</th>\n",
       "      <th>trans_type</th>\n",
       "      <th>display_price</th>\n",
       "      <th>calc_price</th>\n",
       "      <th>eval_price</th>\n",
       "      <th>eval_price_min</th>\n",
       "      <th>eval_price_max</th>\n",
       "      <th>trans_category</th>\n",
       "      <th>trans_art_type</th>\n",
       "      <th>...</th>\n",
       "      <th>info_update_time</th>\n",
       "      <th>trade_channel_id</th>\n",
       "      <th>origin_url</th>\n",
       "      <th>created_at</th>\n",
       "      <th>updated_at</th>\n",
       "      <th>transaction_date</th>\n",
       "      <th>lot</th>\n",
       "      <th>auction_id</th>\n",
       "      <th>company_id</th>\n",
       "      <th>artist</th>\n",
       "    </tr>\n",
       "  </thead>\n",
       "  <tbody>\n",
       "    <tr>\n",
       "      <th>0</th>\n",
       "      <td>0</td>\n",
       "      <td>1310631</td>\n",
       "      <td>auction</td>\n",
       "      <td>流拍</td>\n",
       "      <td>NaN</td>\n",
       "      <td>USD 　1,600-2,400</td>\n",
       "      <td>NaN</td>\n",
       "      <td>NaN</td>\n",
       "      <td>综合媒材</td>\n",
       "      <td>西画雕塑</td>\n",
       "      <td>...</td>\n",
       "      <td>2015-07-12 05:07:34</td>\n",
       "      <td>4058</td>\n",
       "      <td>http://auction.artron.net/paimai-art0029920063/</td>\n",
       "      <td>2014-01-18 00:00:00</td>\n",
       "      <td>2014-01-18 00:00:00</td>\n",
       "      <td>2014-01-17 16:00:00</td>\n",
       "      <td>0063</td>\n",
       "      <td>1331</td>\n",
       "      <td>177</td>\n",
       "      <td>1621</td>\n",
       "    </tr>\n",
       "    <tr>\n",
       "      <th>1</th>\n",
       "      <td>1</td>\n",
       "      <td>1476875</td>\n",
       "      <td>auction</td>\n",
       "      <td>流拍</td>\n",
       "      <td>NaN</td>\n",
       "      <td>RMB 　80,000-120,000</td>\n",
       "      <td>NaN</td>\n",
       "      <td>NaN</td>\n",
       "      <td>绘画</td>\n",
       "      <td>中国书画</td>\n",
       "      <td>...</td>\n",
       "      <td>2015-07-12 13:30:32</td>\n",
       "      <td>2415</td>\n",
       "      <td>http://auction.artron.net/paimai-art5017610140/</td>\n",
       "      <td>2012-05-04 00:00:00</td>\n",
       "      <td>2012-05-04 00:00:00</td>\n",
       "      <td>2012-05-03 16:00:00</td>\n",
       "      <td>0140</td>\n",
       "      <td>2344</td>\n",
       "      <td>3</td>\n",
       "      <td>47595</td>\n",
       "    </tr>\n",
       "    <tr>\n",
       "      <th>2</th>\n",
       "      <td>2</td>\n",
       "      <td>1698094</td>\n",
       "      <td>auction</td>\n",
       "      <td>流拍</td>\n",
       "      <td>NaN</td>\n",
       "      <td>HKD 　3,000-5,000</td>\n",
       "      <td>NaN</td>\n",
       "      <td>NaN</td>\n",
       "      <td>绘画</td>\n",
       "      <td>中国书画</td>\n",
       "      <td>...</td>\n",
       "      <td>2015-07-12 20:07:52</td>\n",
       "      <td>2985</td>\n",
       "      <td>http://auction.artron.net/paimai-art64950475/</td>\n",
       "      <td>2010-05-27 00:00:00</td>\n",
       "      <td>2010-05-27 00:00:00</td>\n",
       "      <td>2010-05-26 16:00:00</td>\n",
       "      <td>0475</td>\n",
       "      <td>3310</td>\n",
       "      <td>101</td>\n",
       "      <td>8370</td>\n",
       "    </tr>\n",
       "    <tr>\n",
       "      <th>3</th>\n",
       "      <td>3</td>\n",
       "      <td>1085516</td>\n",
       "      <td>auction</td>\n",
       "      <td>RMB 　22,600</td>\n",
       "      <td>22600.0</td>\n",
       "      <td>RMB 　20,000-30,000</td>\n",
       "      <td>NaN</td>\n",
       "      <td>NaN</td>\n",
       "      <td>书法</td>\n",
       "      <td>中国书画</td>\n",
       "      <td>...</td>\n",
       "      <td>2015-07-11 14:19:01</td>\n",
       "      <td>13270</td>\n",
       "      <td>http://auction.artron.net/paimai-art5036120262/</td>\n",
       "      <td>2013-07-09 00:00:00</td>\n",
       "      <td>2013-07-09 00:00:00</td>\n",
       "      <td>2013-07-08 16:00:00</td>\n",
       "      <td>0262</td>\n",
       "      <td>1824</td>\n",
       "      <td>316</td>\n",
       "      <td>20339</td>\n",
       "    </tr>\n",
       "    <tr>\n",
       "      <th>4</th>\n",
       "      <td>4</td>\n",
       "      <td>730475</td>\n",
       "      <td>auction</td>\n",
       "      <td>流拍</td>\n",
       "      <td>NaN</td>\n",
       "      <td>RMB 　22,000-32,000</td>\n",
       "      <td>NaN</td>\n",
       "      <td>NaN</td>\n",
       "      <td>书法</td>\n",
       "      <td>中国书画</td>\n",
       "      <td>...</td>\n",
       "      <td>2015-07-10 09:14:31</td>\n",
       "      <td>8413</td>\n",
       "      <td>http://auction.artron.net/paimai-art5027780224/</td>\n",
       "      <td>2012-12-16 00:00:00</td>\n",
       "      <td>2012-12-16 00:00:00</td>\n",
       "      <td>2012-12-15 16:00:00</td>\n",
       "      <td>0224</td>\n",
       "      <td>1219</td>\n",
       "      <td>238</td>\n",
       "      <td>94447</td>\n",
       "    </tr>\n",
       "  </tbody>\n",
       "</table>\n",
       "<p>5 rows × 21 columns</p>\n",
       "</div>"
      ],
      "text/plain": [
       "   index       id trans_type display_price  calc_price           eval_price  \\\n",
       "0      0  1310631    auction            流拍         NaN     USD 　1,600-2,400   \n",
       "1      1  1476875    auction            流拍         NaN  RMB 　80,000-120,000   \n",
       "2      2  1698094    auction            流拍         NaN     HKD 　3,000-5,000   \n",
       "3      3  1085516    auction   RMB 　22,600     22600.0   RMB 　20,000-30,000   \n",
       "4      4   730475    auction            流拍         NaN   RMB 　22,000-32,000   \n",
       "\n",
       "   eval_price_min  eval_price_max trans_category trans_art_type   ...    \\\n",
       "0             NaN             NaN           综合媒材           西画雕塑   ...     \n",
       "1             NaN             NaN             绘画           中国书画   ...     \n",
       "2             NaN             NaN             绘画           中国书画   ...     \n",
       "3             NaN             NaN             书法           中国书画   ...     \n",
       "4             NaN             NaN             书法           中国书画   ...     \n",
       "\n",
       "      info_update_time trade_channel_id  \\\n",
       "0  2015-07-12 05:07:34             4058   \n",
       "1  2015-07-12 13:30:32             2415   \n",
       "2  2015-07-12 20:07:52             2985   \n",
       "3  2015-07-11 14:19:01            13270   \n",
       "4  2015-07-10 09:14:31             8413   \n",
       "\n",
       "                                        origin_url           created_at  \\\n",
       "0  http://auction.artron.net/paimai-art0029920063/  2014-01-18 00:00:00   \n",
       "1  http://auction.artron.net/paimai-art5017610140/  2012-05-04 00:00:00   \n",
       "2    http://auction.artron.net/paimai-art64950475/  2010-05-27 00:00:00   \n",
       "3  http://auction.artron.net/paimai-art5036120262/  2013-07-09 00:00:00   \n",
       "4  http://auction.artron.net/paimai-art5027780224/  2012-12-16 00:00:00   \n",
       "\n",
       "            updated_at     transaction_date   lot auction_id  company_id  \\\n",
       "0  2014-01-18 00:00:00  2014-01-17 16:00:00  0063       1331         177   \n",
       "1  2012-05-04 00:00:00  2012-05-03 16:00:00  0140       2344           3   \n",
       "2  2010-05-27 00:00:00  2010-05-26 16:00:00  0475       3310         101   \n",
       "3  2013-07-09 00:00:00  2013-07-08 16:00:00  0262       1824         316   \n",
       "4  2012-12-16 00:00:00  2012-12-15 16:00:00  0224       1219         238   \n",
       "\n",
       "   artist  \n",
       "0    1621  \n",
       "1   47595  \n",
       "2    8370  \n",
       "3   20339  \n",
       "4   94447  \n",
       "\n",
       "[5 rows x 21 columns]"
      ]
     },
     "execution_count": 14,
     "metadata": {},
     "output_type": "execute_result"
    }
   ],
   "source": [
    "artwork_transactions.head()"
   ]
  },
  {
   "cell_type": "code",
   "execution_count": 3,
   "metadata": {},
   "outputs": [],
   "source": [
    "artist_price = pd.read_csv('../data/artist_price.csv')"
   ]
  },
  {
   "cell_type": "code",
   "execution_count": 4,
   "metadata": {},
   "outputs": [
    {
     "name": "stdout",
     "output_type": "stream",
     "text": [
      "<class 'pandas.core.frame.DataFrame'>\n",
      "RangeIndex: 2312869 entries, 0 to 2312868\n",
      "Data columns (total 3 columns):\n",
      "id            int64\n",
      "calc_price    float64\n",
      "artist_id     int64\n",
      "dtypes: float64(1), int64(2)\n",
      "memory usage: 52.9 MB\n"
     ]
    }
   ],
   "source": [
    "artist_price.info()"
   ]
  },
  {
   "cell_type": "code",
   "execution_count": 5,
   "metadata": {},
   "outputs": [],
   "source": [
    "artist_price['calc_price'] = artist_price['calc_price'].fillna(0)\n",
    "artist_price = artist_price[artist_price.calc_price != 0]\n",
    "artist_price = artist_price.sort_values(by='artist_id')"
   ]
  },
  {
   "cell_type": "code",
   "execution_count": 6,
   "metadata": {},
   "outputs": [],
   "source": [
    "def find_out_lables(column):\n",
    "    lables = []\n",
    "    for value in column:\n",
    "        if value not in lables:\n",
    "            lables.append(value)\n",
    "    #print(lables)\n",
    "    return lables\n",
    "\n",
    "artists = find_out_lables(artist_price['artist_id'])"
   ]
  },
  {
   "cell_type": "code",
   "execution_count": 7,
   "metadata": {},
   "outputs": [
    {
     "data": {
      "text/plain": [
       "69611"
      ]
     },
     "execution_count": 7,
     "metadata": {},
     "output_type": "execute_result"
    }
   ],
   "source": [
    "len(artists)"
   ]
  },
  {
   "cell_type": "code",
   "execution_count": 8,
   "metadata": {},
   "outputs": [],
   "source": [
    "artist_price_dic = artist_price.groupby('artist_id')['calc_price'].mean()\n"
   ]
  },
  {
   "cell_type": "code",
   "execution_count": 9,
   "metadata": {},
   "outputs": [],
   "source": [
    "artist_numtran_dic = artist_price.groupby('artist_id')['calc_price'].count()"
   ]
  },
  {
   "cell_type": "code",
   "execution_count": 23,
   "metadata": {},
   "outputs": [
    {
     "data": {
      "text/plain": [
       "32"
      ]
     },
     "execution_count": 23,
     "metadata": {},
     "output_type": "execute_result"
    }
   ],
   "source": [
    "artist_numtran_dic[1621]"
   ]
  },
  {
   "cell_type": "code",
   "execution_count": 10,
   "metadata": {},
   "outputs": [
    {
     "data": {
      "text/plain": [
       "artist_id\n",
       "1          64\n",
       "2           1\n",
       "8           1\n",
       "9           1\n",
       "10          9\n",
       "11          1\n",
       "12          1\n",
       "15        338\n",
       "17          1\n",
       "18         30\n",
       "22          1\n",
       "24          1\n",
       "25          1\n",
       "26          1\n",
       "27          1\n",
       "31          1\n",
       "33          1\n",
       "34          1\n",
       "35          1\n",
       "36        199\n",
       "37          3\n",
       "38          2\n",
       "40          3\n",
       "41          2\n",
       "42          1\n",
       "45          1\n",
       "47          1\n",
       "48          1\n",
       "49        134\n",
       "50          2\n",
       "         ... \n",
       "123353      1\n",
       "123354      1\n",
       "123355    895\n",
       "123356     10\n",
       "123358     51\n",
       "123361      2\n",
       "123362      5\n",
       "123365      1\n",
       "123376      1\n",
       "123378      1\n",
       "123380      1\n",
       "123381      1\n",
       "123383      1\n",
       "123384      1\n",
       "123386      1\n",
       "123387      2\n",
       "123394      1\n",
       "123396      5\n",
       "123398      1\n",
       "123399      1\n",
       "123403      4\n",
       "123405      5\n",
       "123406      1\n",
       "123407      1\n",
       "123409      1\n",
       "123410      2\n",
       "123461      2\n",
       "123464      1\n",
       "123467      1\n",
       "123470      1\n",
       "Name: calc_price, Length: 69611, dtype: int64"
      ]
     },
     "execution_count": 10,
     "metadata": {},
     "output_type": "execute_result"
    }
   ],
   "source": [
    "artist_numtran_dic"
   ]
  },
  {
   "cell_type": "code",
   "execution_count": 11,
   "metadata": {},
   "outputs": [],
   "source": [
    "#drop column with no info\n",
    "\n",
    "artwork_transactions.drop(['auction_info_link'],axis=1,inplace=True)\n",
    "artwork_transactions.drop(['collector'],axis=1,inplace=True)\n",
    "artwork_transactions.drop(['sell_agency'],axis=1,inplace=True)\n",
    "artwork_transactions.drop(['image_url'],axis=1,inplace=True)\n",
    "artwork_transactions.drop(['icon_img_url'],axis=1,inplace=True)\n",
    "artwork_transactions.drop(['search_string'],axis=1,inplace=True)\n",
    "\n",
    "artwork_transactions.drop(['eval_price_curr'],axis=1,inplace=True)        #information in eval_price\n",
    "artwork_transactions.drop(['trade_curr'],axis=1,inplace=True)             #only one value\n",
    "artwork_transactions.drop(['comments_count'],axis=1,inplace=True) \n",
    "artwork_transactions.drop(['likes_count'],axis=1,inplace=True) \n",
    "\n",
    "\n",
    "#删除‘未提供’价格的 row\n",
    "\n",
    "artwork_transactions = artwork_transactions[artwork_transactions.display_price != '未提供']\n",
    "artwork_transactions = artwork_transactions.reset_index()"
   ]
  },
  {
   "cell_type": "code",
   "execution_count": 12,
   "metadata": {},
   "outputs": [
    {
     "name": "stderr",
     "output_type": "stream",
     "text": [
      "/Users/eva/anaconda3/lib/python3.6/site-packages/ipykernel_launcher.py:10: SettingWithCopyWarning: \n",
      "A value is trying to be set on a copy of a slice from a DataFrame\n",
      "\n",
      "See the caveats in the documentation: http://pandas.pydata.org/pandas-docs/stable/indexing.html#indexing-view-versus-copy\n",
      "  # Remove the CWD from sys.path while we load stuff.\n"
     ]
    }
   ],
   "source": [
    "artwork_transactions['trans_category']=artwork_transactions['trans_category'].fillna('unclear')\n",
    "\n",
    "\n",
    "        \n",
    "#make new column artist\n",
    "\n",
    "artist_artworktransaction_dic = pd.read_csv('../data/artist_artworktransaction.csv')\n",
    "artwork_transactions['artist'] = range(len(artwork_transactions))\n",
    "for i in range(len(artwork_transactions)):\n",
    "    artwork_transactions['artist'][i] = artist_artworktransaction_dic.artist_id[artist_artworktransaction_dic.artwork_transaction_id == artwork_transactions.id[i]]\n",
    "        "
   ]
  },
  {
   "cell_type": "code",
   "execution_count": 25,
   "metadata": {},
   "outputs": [],
   "source": [
    "# 作者的平均价格\n",
    "artwork_transactions['artist_price'] = [0] * len(artwork_transactions)\n",
    "for i in range(len(artwork_transactions)):\n",
    "    if type(artwork_transactions.artist[i]) == int:\n",
    "        artwork_transactions['artist_price'][i] = artist_price_dic[artwork_transactions.artist[i]]\n",
    "        \n",
    "\n",
    "# 作者的流通次数\n",
    "artwork_transactions['artist_numtran'] = [0] * len(artwork_transactions)\n",
    "for i in range(len(artwork_transactions)):\n",
    "    if type(artwork_transactions.artist[i]) == int:\n",
    "        artwork_transactions['artist_numtran'][i] = artist_numtran_dic[artwork_transactions.artist[i]]\n",
    "        "
   ]
  },
  {
   "cell_type": "code",
   "execution_count": null,
   "metadata": {},
   "outputs": [],
   "source": [
    "# about time form transform\n",
    "import datetime\n",
    "import time\n",
    "\n",
    "def texts_to_dates(texts):\n",
    "    dates = []\n",
    "    for text in texts:\n",
    "        date = datetime.datetime.strptime(text, '%Y-%m-%d %H:%M:%S').date()\n",
    "        dates.append(date)\n",
    "    return dates\n",
    "\n",
    "\n",
    "def texts_to_strptime(texts):\n",
    "    counter =0\n",
    "    dates = np.array(range(len(texts)))\n",
    "    for text in texts:\n",
    "        date = datetime.datetime.strptime(text, '%Y-%m-%d %H:%M:%S').date()\n",
    "        date_s = time.mktime(date.timetuple())\n",
    "        #print(dates[counter])\n",
    "        dates[counter] = date_s\n",
    "        #print (dates[:10])\n",
    "        counter +=1\n",
    "    #print(dates)\n",
    "    return dates\n",
    "\n",
    "def get_age_days(date1s,date2s):\n",
    "    age_days=[]\n",
    "    for i in range(len(date1s)):\n",
    "        age_days.append((date1s[i] - date2s[i]).days)\n",
    "    return age_days\n",
    "\n",
    "\n",
    "artwork_transactions['transaction_date'] = texts_to_strptime(artwork_transactions.transaction_date)\n",
    "artwork_transactions['transaction_date'] = (artwork_transactions['transaction_date'])"
   ]
  },
  {
   "cell_type": "code",
   "execution_count": 26,
   "metadata": {},
   "outputs": [],
   "source": [
    "import jieba\n",
    "\n",
    "a = '开发者可以指定自己自定义的词典，以便包含 jieba 词库里没有的词。虽然 jieba 有新词识别能力，但是自行添加新词可以保证更高的正确率'\n",
    "b = jieba.cut(a)"
   ]
  },
  {
   "cell_type": "code",
   "execution_count": 27,
   "metadata": {},
   "outputs": [
    {
     "data": {
      "text/plain": [
       "generator"
      ]
     },
     "execution_count": 27,
     "metadata": {},
     "output_type": "execute_result"
    }
   ],
   "source": [
    "type(b)"
   ]
  },
  {
   "cell_type": "code",
   "execution_count": 28,
   "metadata": {},
   "outputs": [
    {
     "name": "stdout",
     "output_type": "stream",
     "text": [
      "<generator object Tokenizer.cut at 0x117b71c50>\n"
     ]
    }
   ],
   "source": [
    "print(b)"
   ]
  },
  {
   "cell_type": "code",
   "execution_count": 30,
   "metadata": {},
   "outputs": [],
   "source": [
    "c = ' '.join(b)"
   ]
  },
  {
   "cell_type": "code",
   "execution_count": 31,
   "metadata": {},
   "outputs": [
    {
     "data": {
      "text/plain": [
       "str"
      ]
     },
     "execution_count": 31,
     "metadata": {},
     "output_type": "execute_result"
    }
   ],
   "source": [
    "type (c)"
   ]
  },
  {
   "cell_type": "code",
   "execution_count": null,
   "metadata": {},
   "outputs": [],
   "source": []
  }
 ],
 "metadata": {
  "kernelspec": {
   "display_name": "Python 3",
   "language": "python",
   "name": "python3"
  },
  "language_info": {
   "codemirror_mode": {
    "name": "ipython",
    "version": 3
   },
   "file_extension": ".py",
   "mimetype": "text/x-python",
   "name": "python",
   "nbconvert_exporter": "python",
   "pygments_lexer": "ipython3",
   "version": "3.6.3"
  }
 },
 "nbformat": 4,
 "nbformat_minor": 2
}
