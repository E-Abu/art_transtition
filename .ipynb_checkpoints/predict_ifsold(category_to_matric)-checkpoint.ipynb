{
 "cells": [
  {
   "cell_type": "code",
   "execution_count": 1,
   "metadata": {},
   "outputs": [],
   "source": [
    "import csv\n",
    "import numpy as np\n",
    "import pandas as pd\n",
    "\n",
    "file_name = 'artwork_transactions_sample.csv'\n",
    "artwork_transactions = pd.read_csv(file_name)\n"
   ]
  },
  {
   "cell_type": "code",
   "execution_count": 2,
   "metadata": {},
   "outputs": [],
   "source": [
    "def find_out_lables(column):\n",
    "    lables = []\n",
    "    for value in column:\n",
    "        if value not in lables:\n",
    "            lables.append(value)\n",
    "    print(lables)\n",
    "    return lables\n",
    "\n",
    "\n",
    "# find_out_lables(artwork_transactions['trans_category'])\n",
    "# find_out_lables(artwork_transactions['trans_art_type'])\n",
    "# find_out_lables(artwork_transactions['auction_id'])\n",
    "# find_out_lables(artwork_transactions['company_id'])"
   ]
  },
  {
   "cell_type": "code",
   "execution_count": 3,
   "metadata": {},
   "outputs": [],
   "source": [
    "\n",
    "#drop column with no info\n",
    "\n",
    "artwork_transactions.drop(['auction_info_link'],axis=1,inplace=True)\n",
    "artwork_transactions.drop(['collector'],axis=1,inplace=True)\n",
    "artwork_transactions.drop(['sell_agency'],axis=1,inplace=True)\n",
    "artwork_transactions.drop(['image_url'],axis=1,inplace=True)\n",
    "artwork_transactions.drop(['icon_img_url'],axis=1,inplace=True)\n",
    "artwork_transactions.drop(['search_string'],axis=1,inplace=True)\n",
    "\n",
    "artwork_transactions.drop(['eval_price_curr'],axis=1,inplace=True)        #information in eval_price\n",
    "artwork_transactions.drop(['trade_curr'],axis=1,inplace=True)             #only one value\n",
    "artwork_transactions.drop(['comments_count'],axis=1,inplace=True) \n",
    "artwork_transactions.drop(['likes_count'],axis=1,inplace=True) \n",
    "\n",
    "\n",
    "#删除‘未提供’价格的hang\n",
    "\n",
    "artwork_transactions = artwork_transactions[artwork_transactions.display_price != '未提供']\n",
    "artwork_transactions = artwork_transactions.reset_index()"
   ]
  },
  {
   "cell_type": "code",
   "execution_count": 4,
   "metadata": {},
   "outputs": [
    {
     "name": "stderr",
     "output_type": "stream",
     "text": [
      "/Users/eva/anaconda3/lib/python3.6/site-packages/ipykernel_launcher.py:11: SettingWithCopyWarning: \n",
      "A value is trying to be set on a copy of a slice from a DataFrame\n",
      "\n",
      "See the caveats in the documentation: http://pandas.pydata.org/pandas-docs/stable/indexing.html#indexing-view-versus-copy\n",
      "  # This is added back by InteractiveShellApp.init_path()\n",
      "/Users/eva/anaconda3/lib/python3.6/site-packages/ipykernel_launcher.py:13: SettingWithCopyWarning: \n",
      "A value is trying to be set on a copy of a slice from a DataFrame\n",
      "\n",
      "See the caveats in the documentation: http://pandas.pydata.org/pandas-docs/stable/indexing.html#indexing-view-versus-copy\n",
      "  del sys.path[0]\n",
      "/Users/eva/anaconda3/lib/python3.6/site-packages/ipykernel_launcher.py:21: SettingWithCopyWarning: \n",
      "A value is trying to be set on a copy of a slice from a DataFrame\n",
      "\n",
      "See the caveats in the documentation: http://pandas.pydata.org/pandas-docs/stable/indexing.html#indexing-view-versus-copy\n"
     ]
    }
   ],
   "source": [
    "#category fill nan\n",
    "\n",
    "artwork_transactions['trans_category']=artwork_transactions['trans_category'].fillna('nan')\n",
    "\n",
    "\n",
    "#make new column ifsold\n",
    "\n",
    "artwork_transactions['ifsold'] = range(len(artwork_transactions))\n",
    "for i in range(len(artwork_transactions)):\n",
    "    if np.isnan(artwork_transactions.calc_price[i]):\n",
    "        artwork_transactions['ifsold'][i] = 0\n",
    "    elif artwork_transactions.calc_price[i] > 0:\n",
    "        artwork_transactions['ifsold'][i] = 1\n",
    "    else: print('nooooooo',i)\n",
    "        \n",
    "#make new column artist\n",
    "\n",
    "artist_artworktransaction_dic = pd.read_csv('artist_artworktransaction.csv')\n",
    "artwork_transactions['artist'] = range(len(artwork_transactions))\n",
    "for i in range(len(artwork_transactions)):\n",
    "    artwork_transactions['artist'][i] = artist_artworktransaction_dic.artist_id[artist_artworktransaction_dic.artwork_transaction_id == artwork_transactions.id[i]]\n",
    "        \n"
   ]
  },
  {
   "cell_type": "code",
   "execution_count": 5,
   "metadata": {},
   "outputs": [],
   "source": [
    "# about time form transform\n",
    "import datetime\n",
    "import time\n",
    "\n",
    "def texts_to_dates(texts):\n",
    "    dates = []\n",
    "    for text in texts:\n",
    "        date = datetime.datetime.strptime(text, '%Y-%m-%d %H:%M:%S').date()\n",
    "        dates.append(date)\n",
    "    return dates\n",
    "\n",
    "\n",
    "def texts_to_strptime(texts):\n",
    "    counter =0\n",
    "    dates = np.array(range(len(texts)))\n",
    "    for text in texts:\n",
    "        date = datetime.datetime.strptime(text, '%Y-%m-%d %H:%M:%S').date()\n",
    "        date_s = time.mktime(date.timetuple())\n",
    "        #print(dates[counter])\n",
    "        dates[counter] = date_s\n",
    "        #print (dates[:10])\n",
    "        counter +=1\n",
    "    #print(dates)\n",
    "    return dates\n",
    "\n",
    "def get_age_days(date1s,date2s):\n",
    "    age_days=[]\n",
    "    for i in range(len(date1s)):\n",
    "        age_days.append((date1s[i] - date2s[i]).days)\n",
    "    return age_days\n",
    "\n",
    "\n",
    "artwork_transactions['transaction_date'] = texts_to_strptime(artwork_transactions.transaction_date)\n",
    "artwork_transactions['transaction_date'] = (artwork_transactions['transaction_date'])\n",
    "\n"
   ]
  },
  {
   "cell_type": "code",
   "execution_count": 6,
   "metadata": {},
   "outputs": [],
   "source": [
    "# about price\n",
    "exchange_rate = {'USD':0.15831, \n",
    "                 'HKD':1.23757036, \n",
    "                 'RMB':1, \n",
    "                 'NTD':4.60471204,\n",
    "                 'SGD':0.207030484,\n",
    "                 'GBP':0.111719583,\n",
    "                 'EUR':0.127391969\n",
    "                }\n",
    "\n",
    "eval_price = []\n",
    "eval_price_min = []\n",
    "eval_price_max = []\n",
    "for price in artwork_transactions['eval_price']:\n",
    "    if pd.isnull(price): \n",
    "        eval_price.append(0)\n",
    "        eval_price_min.append(0)\n",
    "        eval_price_max.append(0)\n",
    "    else:\n",
    "        price = price.split(' ')\n",
    "        price[1] = (price[1].strip('\\u3000')).split('-')\n",
    "        price_min = int(price[1][0].replace(',',''))/(exchange_rate[price[0]])\n",
    "        price_max = int(price[1][1].replace(',',''))/(exchange_rate[price[0]])\n",
    "        eval_price.append(price)\n",
    "        eval_price_min.append(price_min)\n",
    "        eval_price_max.append(price_max)\n",
    "        \n",
    "artwork_transactions['eval_price_min'] = (eval_price_min)\n",
    "artwork_transactions['eval_price_max'] = (eval_price_max)\n",
    "artwork_transactions['eval_price'] = (artwork_transactions['eval_price_max'] + artwork_transactions['eval_price_min'])/2\n",
    "    \n",
    "\n",
    "\n"
   ]
  },
  {
   "cell_type": "code",
   "execution_count": 7,
   "metadata": {},
   "outputs": [],
   "source": [
    "artwork_transactions['calc_price'] = artwork_transactions['calc_price'].fillna(0)"
   ]
  },
  {
   "cell_type": "markdown",
   "metadata": {},
   "source": [
    "## 统计分析"
   ]
  },
  {
   "cell_type": "code",
   "execution_count": 8,
   "metadata": {
    "scrolled": false
   },
   "outputs": [
    {
     "data": {
      "text/html": [
       "<div>\n",
       "<style scoped>\n",
       "    .dataframe tbody tr th:only-of-type {\n",
       "        vertical-align: middle;\n",
       "    }\n",
       "\n",
       "    .dataframe tbody tr th {\n",
       "        vertical-align: top;\n",
       "    }\n",
       "\n",
       "    .dataframe thead th {\n",
       "        text-align: right;\n",
       "    }\n",
       "</style>\n",
       "<table border=\"1\" class=\"dataframe\">\n",
       "  <thead>\n",
       "    <tr style=\"text-align: right;\">\n",
       "      <th></th>\n",
       "      <th>index</th>\n",
       "      <th>id</th>\n",
       "      <th>trans_type</th>\n",
       "      <th>display_price</th>\n",
       "      <th>calc_price</th>\n",
       "      <th>eval_price</th>\n",
       "      <th>eval_price_min</th>\n",
       "      <th>eval_price_max</th>\n",
       "      <th>trans_category</th>\n",
       "      <th>trans_art_type</th>\n",
       "      <th>...</th>\n",
       "      <th>trade_channel_id</th>\n",
       "      <th>origin_url</th>\n",
       "      <th>created_at</th>\n",
       "      <th>updated_at</th>\n",
       "      <th>transaction_date</th>\n",
       "      <th>lot</th>\n",
       "      <th>auction_id</th>\n",
       "      <th>company_id</th>\n",
       "      <th>ifsold</th>\n",
       "      <th>artist</th>\n",
       "    </tr>\n",
       "  </thead>\n",
       "  <tbody>\n",
       "    <tr>\n",
       "      <th>0</th>\n",
       "      <td>0</td>\n",
       "      <td>1310631</td>\n",
       "      <td>auction</td>\n",
       "      <td>流拍</td>\n",
       "      <td>0.0</td>\n",
       "      <td>12633.440718</td>\n",
       "      <td>10106.752574</td>\n",
       "      <td>15160.128861</td>\n",
       "      <td>综合媒材</td>\n",
       "      <td>西画雕塑</td>\n",
       "      <td>...</td>\n",
       "      <td>4058</td>\n",
       "      <td>http://auction.artron.net/paimai-art0029920063/</td>\n",
       "      <td>2014-01-18 00:00:00</td>\n",
       "      <td>2014-01-18 00:00:00</td>\n",
       "      <td>1389888000</td>\n",
       "      <td>0063</td>\n",
       "      <td>1331</td>\n",
       "      <td>177</td>\n",
       "      <td>0</td>\n",
       "      <td>1621</td>\n",
       "    </tr>\n",
       "    <tr>\n",
       "      <th>1</th>\n",
       "      <td>1</td>\n",
       "      <td>1476875</td>\n",
       "      <td>auction</td>\n",
       "      <td>流拍</td>\n",
       "      <td>0.0</td>\n",
       "      <td>100000.000000</td>\n",
       "      <td>80000.000000</td>\n",
       "      <td>120000.000000</td>\n",
       "      <td>绘画</td>\n",
       "      <td>中国书画</td>\n",
       "      <td>...</td>\n",
       "      <td>2415</td>\n",
       "      <td>http://auction.artron.net/paimai-art5017610140/</td>\n",
       "      <td>2012-05-04 00:00:00</td>\n",
       "      <td>2012-05-04 00:00:00</td>\n",
       "      <td>1335974400</td>\n",
       "      <td>0140</td>\n",
       "      <td>2344</td>\n",
       "      <td>3</td>\n",
       "      <td>0</td>\n",
       "      <td>47595</td>\n",
       "    </tr>\n",
       "    <tr>\n",
       "      <th>2</th>\n",
       "      <td>2</td>\n",
       "      <td>1698094</td>\n",
       "      <td>auction</td>\n",
       "      <td>流拍</td>\n",
       "      <td>0.0</td>\n",
       "      <td>3232.139464</td>\n",
       "      <td>2424.104598</td>\n",
       "      <td>4040.174330</td>\n",
       "      <td>绘画</td>\n",
       "      <td>中国书画</td>\n",
       "      <td>...</td>\n",
       "      <td>2985</td>\n",
       "      <td>http://auction.artron.net/paimai-art64950475/</td>\n",
       "      <td>2010-05-27 00:00:00</td>\n",
       "      <td>2010-05-27 00:00:00</td>\n",
       "      <td>1274803200</td>\n",
       "      <td>0475</td>\n",
       "      <td>3310</td>\n",
       "      <td>101</td>\n",
       "      <td>0</td>\n",
       "      <td>8370</td>\n",
       "    </tr>\n",
       "    <tr>\n",
       "      <th>3</th>\n",
       "      <td>3</td>\n",
       "      <td>1085516</td>\n",
       "      <td>auction</td>\n",
       "      <td>RMB 　22,600</td>\n",
       "      <td>22600.0</td>\n",
       "      <td>25000.000000</td>\n",
       "      <td>20000.000000</td>\n",
       "      <td>30000.000000</td>\n",
       "      <td>书法</td>\n",
       "      <td>中国书画</td>\n",
       "      <td>...</td>\n",
       "      <td>13270</td>\n",
       "      <td>http://auction.artron.net/paimai-art5036120262/</td>\n",
       "      <td>2013-07-09 00:00:00</td>\n",
       "      <td>2013-07-09 00:00:00</td>\n",
       "      <td>1373212800</td>\n",
       "      <td>0262</td>\n",
       "      <td>1824</td>\n",
       "      <td>316</td>\n",
       "      <td>1</td>\n",
       "      <td>20339</td>\n",
       "    </tr>\n",
       "    <tr>\n",
       "      <th>4</th>\n",
       "      <td>4</td>\n",
       "      <td>730475</td>\n",
       "      <td>auction</td>\n",
       "      <td>流拍</td>\n",
       "      <td>0.0</td>\n",
       "      <td>27000.000000</td>\n",
       "      <td>22000.000000</td>\n",
       "      <td>32000.000000</td>\n",
       "      <td>书法</td>\n",
       "      <td>中国书画</td>\n",
       "      <td>...</td>\n",
       "      <td>8413</td>\n",
       "      <td>http://auction.artron.net/paimai-art5027780224/</td>\n",
       "      <td>2012-12-16 00:00:00</td>\n",
       "      <td>2012-12-16 00:00:00</td>\n",
       "      <td>1355500800</td>\n",
       "      <td>0224</td>\n",
       "      <td>1219</td>\n",
       "      <td>238</td>\n",
       "      <td>0</td>\n",
       "      <td>94447</td>\n",
       "    </tr>\n",
       "  </tbody>\n",
       "</table>\n",
       "<p>5 rows × 22 columns</p>\n",
       "</div>"
      ],
      "text/plain": [
       "   index       id trans_type display_price  calc_price     eval_price  \\\n",
       "0      0  1310631    auction            流拍         0.0   12633.440718   \n",
       "1      1  1476875    auction            流拍         0.0  100000.000000   \n",
       "2      2  1698094    auction            流拍         0.0    3232.139464   \n",
       "3      3  1085516    auction   RMB 　22,600     22600.0   25000.000000   \n",
       "4      4   730475    auction            流拍         0.0   27000.000000   \n",
       "\n",
       "   eval_price_min  eval_price_max trans_category trans_art_type   ...    \\\n",
       "0    10106.752574    15160.128861           综合媒材           西画雕塑   ...     \n",
       "1    80000.000000   120000.000000             绘画           中国书画   ...     \n",
       "2     2424.104598     4040.174330             绘画           中国书画   ...     \n",
       "3    20000.000000    30000.000000             书法           中国书画   ...     \n",
       "4    22000.000000    32000.000000             书法           中国书画   ...     \n",
       "\n",
       "  trade_channel_id                                       origin_url  \\\n",
       "0             4058  http://auction.artron.net/paimai-art0029920063/   \n",
       "1             2415  http://auction.artron.net/paimai-art5017610140/   \n",
       "2             2985    http://auction.artron.net/paimai-art64950475/   \n",
       "3            13270  http://auction.artron.net/paimai-art5036120262/   \n",
       "4             8413  http://auction.artron.net/paimai-art5027780224/   \n",
       "\n",
       "            created_at           updated_at transaction_date   lot  \\\n",
       "0  2014-01-18 00:00:00  2014-01-18 00:00:00       1389888000  0063   \n",
       "1  2012-05-04 00:00:00  2012-05-04 00:00:00       1335974400  0140   \n",
       "2  2010-05-27 00:00:00  2010-05-27 00:00:00       1274803200  0475   \n",
       "3  2013-07-09 00:00:00  2013-07-09 00:00:00       1373212800  0262   \n",
       "4  2012-12-16 00:00:00  2012-12-16 00:00:00       1355500800  0224   \n",
       "\n",
       "   auction_id company_id  ifsold  artist  \n",
       "0        1331        177       0    1621  \n",
       "1        2344          3       0   47595  \n",
       "2        3310        101       0    8370  \n",
       "3        1824        316       1   20339  \n",
       "4        1219        238       0   94447  \n",
       "\n",
       "[5 rows x 22 columns]"
      ]
     },
     "execution_count": 8,
     "metadata": {},
     "output_type": "execute_result"
    }
   ],
   "source": [
    "artwork_transactions.head()"
   ]
  },
  {
   "cell_type": "markdown",
   "metadata": {},
   "source": [
    "#### 估价的分布\n",
    "\n",
    "艺术品估价的分布，呈现完全的倾斜，几乎成为指数下降的形式："
   ]
  },
  {
   "cell_type": "code",
   "execution_count": 61,
   "metadata": {},
   "outputs": [
    {
     "name": "stdout",
     "output_type": "stream",
     "text": [
      "7631\n",
      "2603\n",
      "140\n"
     ]
    },
    {
     "data": {
      "text/plain": [
       "0.018346219368365876"
      ]
     },
     "execution_count": 61,
     "metadata": {},
     "output_type": "execute_result"
    }
   ],
   "source": [
    "print (len(artwork_transactions))\n",
    "print (len(artwork_transactions[artwork_transactions.eval_price < 10000]))\n",
    "print (len(artwork_transactions[artwork_transactions.eval_price > 1000000]))\n",
    "\n",
    "140/7631"
   ]
  },
  {
   "cell_type": "code",
   "execution_count": 37,
   "metadata": {},
   "outputs": [
    {
     "data": {
      "text/plain": [
       "(array([ 2603.,  1168.,   765.,   462.,   385.,   276.,   214.,   193.,\n",
       "           78.,   252.]),\n",
       " array([      0.,   10000.,   20000.,   30000.,   40000.,   50000.,\n",
       "          60000.,   70000.,   80000.,   90000.,  100000.]),\n",
       " <a list of 10 Patch objects>)"
      ]
     },
     "execution_count": 37,
     "metadata": {},
     "output_type": "execute_result"
    },
    {
     "data": {
      "image/png": "[encoded data removed]",
      "text/plain": [
       "<matplotlib.figure.Figure at 0x118650f28>"
      ]
     },
     "metadata": {},
     "output_type": "display_data"
    }
   ],
   "source": [
    "%matplotlib inline\n",
    "import matplotlib.pyplot as plt\n",
    "import seaborn as sns \n",
    "\n",
    "\n",
    "plt.hist(artwork_transactions['eval_price'], range = (0,1000000))\n",
    "plt.hist(artwork_transactions['eval_price'], range = (0,100000))\n"
   ]
  },
  {
   "cell_type": "markdown",
   "metadata": {},
   "source": [
    "#### 售出率和估价等级\n",
    "\n",
    "各个价位的售出率并没有差别"
   ]
  },
  {
   "cell_type": "code",
   "execution_count": 60,
   "metadata": {},
   "outputs": [
    {
     "data": {
      "text/plain": [
       "eval_price_cut\n",
       "(0, 100000]         0.665702\n",
       "(100000, 200000]    0.735887\n",
       "(200000, 300000]    0.732218\n",
       "(300000, 400000]    0.761538\n",
       "(400000, 500000]    0.687500\n",
       "(500000, 600000]    0.638298\n",
       "(600000, 700000]    0.685185\n",
       "(700000, 800000]    0.791667\n",
       "(800000, 900000]    0.647059\n",
       "Name: ifsold, dtype: float64"
      ]
     },
     "execution_count": 60,
     "metadata": {},
     "output_type": "execute_result"
    }
   ],
   "source": [
    "bins = np.arange(0,1000000,100000)\n",
    "artwork_transactions['eval_price_cut'] = pd.cut(artwork_transactions['eval_price'], bins)\n",
    "artwork_transactions.groupby(['eval_price_cut'])['ifsold'].mean()"
   ]
  },
  {
   "cell_type": "markdown",
   "metadata": {},
   "source": [
    "#### 各艺术家 的 售出率\n",
    "\n",
    "每位艺术家平均有2-3件作品拍卖，样本较少，所以艺术家的售出率不足以取信"
   ]
  },
  {
   "cell_type": "code",
   "execution_count": 65,
   "metadata": {},
   "outputs": [
    {
     "data": {
      "text/plain": [
       "2312869"
      ]
     },
     "execution_count": 65,
     "metadata": {},
     "output_type": "execute_result"
    }
   ],
   "source": [
    "len(artist_artworktransaction_dic)"
   ]
  },
  {
   "cell_type": "code",
   "execution_count": 64,
   "metadata": {},
   "outputs": [
    {
     "data": {
      "text/plain": [
       "3132"
      ]
     },
     "execution_count": 64,
     "metadata": {},
     "output_type": "execute_result"
    }
   ],
   "source": [
    "def count_lables(column):\n",
    "    lables = []\n",
    "    for value in column:\n",
    "        if value not in lables:\n",
    "            lables.append(value)\n",
    "    return len(lables)\n",
    "\n",
    "count_lables(artwork_transactions['artist'])"
   ]
  },
  {
   "cell_type": "code",
   "execution_count": 63,
   "metadata": {},
   "outputs": [
    {
     "data": {
      "text/plain": [
       "(array([  766.,     3.,    11.,    36.,    24.,   244.,   134.,    65.,\n",
       "           72.,  1777.]),\n",
       " array([ 0. ,  0.1,  0.2,  0.3,  0.4,  0.5,  0.6,  0.7,  0.8,  0.9,  1. ]),\n",
       " <a list of 10 Patch objects>)"
      ]
     },
     "execution_count": 63,
     "metadata": {},
     "output_type": "execute_result"
    },
    {
     "data": {
      "image/png": "[encoded data removed]",
      "text/plain": [
       "<matplotlib.figure.Figure at 0x1a29704c88>"
      ]
     },
     "metadata": {},
     "output_type": "display_data"
    }
   ],
   "source": [
    "artist_ifsold_rate = artwork_transactions.groupby(['artist'])['ifsold'].mean()\n",
    "plt.hist(artist_ifsold_rate)\n"
   ]
  },
  {
   "cell_type": "markdown",
   "metadata": {},
   "source": [
    "#### 拍卖公司 和 拍卖会\n",
    "\n",
    "首先，拍卖公司也许是相关的。\n",
    "\n",
    "而拍卖会，平均每次拍卖会的艺术品也是小于十件，样本量过小。再次，待预测的艺术品一定来自于新的拍卖会，不具有可借鉴价值。"
   ]
  },
  {
   "cell_type": "code",
   "execution_count": 66,
   "metadata": {},
   "outputs": [
    {
     "data": {
      "text/plain": [
       "523"
      ]
     },
     "execution_count": 66,
     "metadata": {},
     "output_type": "execute_result"
    }
   ],
   "source": [
    "count_lables(artwork_transactions['company_id'])"
   ]
  },
  {
   "cell_type": "code",
   "execution_count": 70,
   "metadata": {},
   "outputs": [
    {
     "data": {
      "text/plain": [
       "(array([  79.,    6.,   15.,   18.,   17.,   84.,   66.,   58.,   52.,  128.]),\n",
       " array([ 0. ,  0.1,  0.2,  0.3,  0.4,  0.5,  0.6,  0.7,  0.8,  0.9,  1. ]),\n",
       " <a list of 10 Patch objects>)"
      ]
     },
     "execution_count": 70,
     "metadata": {},
     "output_type": "execute_result"
    },
    {
     "data": {
      "image/png": "[encoded data removed]",
      "text/plain": [
       "<matplotlib.figure.Figure at 0x1a287132b0>"
      ]
     },
     "metadata": {},
     "output_type": "display_data"
    }
   ],
   "source": [
    "company_ifsold_rate = artwork_transactions.groupby(['company_id'])['ifsold'].mean()\n",
    "plt.hist(company_ifsold_rate)"
   ]
  },
  {
   "cell_type": "code",
   "execution_count": 69,
   "metadata": {},
   "outputs": [
    {
     "data": {
      "text/plain": [
       "2697"
      ]
     },
     "execution_count": 69,
     "metadata": {},
     "output_type": "execute_result"
    }
   ],
   "source": [
    "count_lables(artwork_transactions['auction_id'])"
   ]
  },
  {
   "cell_type": "code",
   "execution_count": 71,
   "metadata": {},
   "outputs": [
    {
     "data": {
      "text/plain": [
       "(array([  502.,     4.,    41.,    80.,    19.,   363.,   194.,   127.,\n",
       "          118.,  1249.]),\n",
       " array([ 0. ,  0.1,  0.2,  0.3,  0.4,  0.5,  0.6,  0.7,  0.8,  0.9,  1. ]),\n",
       " <a list of 10 Patch objects>)"
      ]
     },
     "execution_count": 71,
     "metadata": {},
     "output_type": "execute_result"
    },
    {
     "data": {
      "image/png": "[encoded data removed]",
      "text/plain": [
       "<matplotlib.figure.Figure at 0x1a2b4bc9b0>"
      ]
     },
     "metadata": {},
     "output_type": "display_data"
    }
   ],
   "source": [
    "auction_ifsold_rate = artwork_transactions.groupby(['auction_id'])['ifsold'].mean()\n",
    "plt.hist(auction_ifsold_rate)"
   ]
  },
  {
   "cell_type": "markdown",
   "metadata": {},
   "source": [
    "#### 艺术品种类"
   ]
  },
  {
   "cell_type": "code",
   "execution_count": 83,
   "metadata": {},
   "outputs": [
    {
     "data": {
      "text/plain": [
       "trans_art_type\n",
       "中国书画    0.677055\n",
       "西画雕塑    0.716535\n",
       "陶瓷      1.000000\n",
       "Name: ifsold, dtype: float64"
      ]
     },
     "execution_count": 83,
     "metadata": {},
     "output_type": "execute_result"
    }
   ],
   "source": [
    "artwork_transactions.groupby(['trans_art_type'])['ifsold'].mean()\n"
   ]
  },
  {
   "cell_type": "code",
   "execution_count": 82,
   "metadata": {},
   "outputs": [
    {
     "data": {
      "text/plain": [
       "trans_category\n",
       "nan         0.850000\n",
       "书法          0.686703\n",
       "当代艺术        0.750000\n",
       "摄影          0.666667\n",
       "水粉水彩        0.742857\n",
       "油画          0.711628\n",
       "版画          0.636364\n",
       "现当代及其它瓷器    1.000000\n",
       "素描          0.789474\n",
       "绘画          0.673485\n",
       "综合媒材        0.764706\n",
       "装置          1.000000\n",
       "西画雕塑其它      0.750000\n",
       "雕塑          0.785714\n",
       "Name: ifsold, dtype: float64"
      ]
     },
     "execution_count": 82,
     "metadata": {},
     "output_type": "execute_result"
    }
   ],
   "source": [
    "artwork_transactions.groupby(['trans_category'])['ifsold'].mean()\n"
   ]
  },
  {
   "cell_type": "markdown",
   "metadata": {},
   "source": [
    "## 准备塞进分类器\n"
   ]
  },
  {
   "cell_type": "code",
   "execution_count": null,
   "metadata": {},
   "outputs": [],
   "source": [
    "from sklearn import preprocessing\n",
    "def scale(data):\n",
    "    X_train = data\n",
    "    X_scaled = preprocessing.scale(X_train)\n",
    "\n",
    "    return X_scaled                                          \n"
   ]
  },
  {
   "cell_type": "code",
   "execution_count": null,
   "metadata": {},
   "outputs": [],
   "source": [
    "def sperate_train_data(data):\n",
    "    the_num_of_total_data = len(data)\n",
    "    data_train = data[:int(the_num_of_total_data * 0.8)]\n",
    "    data_test = data[int(the_num_of_total_data * 0.8):]\n",
    "    return data_train, data_test\n",
    "\n",
    "feature_train, feature_test = sperate_train_data(feature_matric)"
   ]
  },
  {
   "cell_type": "code",
   "execution_count": null,
   "metadata": {},
   "outputs": [],
   "source": [
    "attrib = ['eval_price',\n",
    "          'eval_price_min',\n",
    "          'eval_price_max',\n",
    "          'trans_cantegory',\n",
    "          'trans_art_type',\n",
    "          'transaction_date',\n",
    "          'auction_id', \n",
    "          'company_id',\n",
    "          'artist']"
   ]
  },
  {
   "cell_type": "code",
   "execution_count": null,
   "metadata": {},
   "outputs": [],
   "source": [
    "artwork_transactions.drop(['lot'],axis=1,inplace=True)\n",
    "artwork_transactions.drop(['updated_at'],axis=1,inplace=True)\n",
    "artwork_transactions.drop(['created_at'],axis=1,inplace=True)\n",
    "artwork_transactions.drop(['origin_url'],axis=1,inplace=True)\n",
    "artwork_transactions.drop(['trade_channel_id'],axis=1,inplace=True)\n",
    "artwork_transactions.drop(['info_update_time'],axis=1,inplace=True)\n",
    "artwork_transactions.drop(['artwork_auction_name'],axis=1,inplace=True)\n",
    "artwork_transactions.drop(['display_price'],axis=1,inplace=True)\n",
    "artwork_transactions.drop(['trans_type'],axis=1,inplace=True)\n",
    "artwork_transactions.drop(['id'],axis=1,inplace=True)\n",
    "artwork_transactions.drop(['index'],axis=1,inplace=True)\n",
    "\n",
    "ifsold = artwork_transactions['ifsold']\n",
    "artwork_transactions.drop(['ifsold'],axis=1,inplace=True)\n",
    "calc_price = artwork_transactions['calc_price']\n",
    "artwork_transactions.drop(['calc_price'],axis=1,inplace=True)\n"
   ]
  },
  {
   "cell_type": "code",
   "execution_count": null,
   "metadata": {},
   "outputs": [],
   "source": [
    "category_attrib = ['trans_category', 'trans_art_type', 'auction_id', 'company_id, artist']"
   ]
  },
  {
   "cell_type": "code",
   "execution_count": null,
   "metadata": {},
   "outputs": [],
   "source": [
    "artwork_transactions['auction_id'] = artwork_transactions['auction_id'].astype(str)\n",
    "artwork_transactions['company_id'] = artwork_transactions['company_id'].astype(str)\n",
    "artwork_transactions['artist'] = artwork_transactions['artist'].astype(str)"
   ]
  },
  {
   "cell_type": "code",
   "execution_count": null,
   "metadata": {},
   "outputs": [],
   "source": [
    "serial_attrib = ['eval_price','eval_price_min','eval_price_max','transaction_date',]"
   ]
  },
  {
   "cell_type": "code",
   "execution_count": null,
   "metadata": {},
   "outputs": [],
   "source": [
    "artwork_transactions['eval_price'] = scale(artwork_transactions['eval_price'])\n",
    "artwork_transactions['eval_price_min'] = scale(artwork_transactions['eval_price_min'])\n",
    "artwork_transactions['eval_price_max'] = scale(artwork_transactions['eval_price_max'])\n",
    "artwork_transactions['transaction_datee'] = scale(artwork_transactions['transaction_date'])"
   ]
  },
  {
   "cell_type": "code",
   "execution_count": null,
   "metadata": {},
   "outputs": [],
   "source": [
    "columns = []\n",
    "for column_name in artwork_transactions:\n",
    "    columns.append(artwork_transactions[column_name])\n",
    "\n",
    "feature_tuple = list(zip(*columns))\n",
    "feature_dic = [{k: v for k,v in zip(attrib, d)} for d in feature_tuple]"
   ]
  },
  {
   "cell_type": "code",
   "execution_count": null,
   "metadata": {},
   "outputs": [],
   "source": [
    "feature_dic"
   ]
  },
  {
   "cell_type": "code",
   "execution_count": null,
   "metadata": {},
   "outputs": [],
   "source": [
    "from sklearn.feature_extraction import DictVectorizer\n",
    "victorizer = DictVectorizer(sparse = True)\n",
    "feature_matric = victorizer.fit_transform(feature_dic)\n",
    "feature_matric = feature_matric.toarray()"
   ]
  },
  {
   "cell_type": "code",
   "execution_count": null,
   "metadata": {},
   "outputs": [],
   "source": [
    "feature_matric"
   ]
  },
  {
   "cell_type": "code",
   "execution_count": null,
   "metadata": {},
   "outputs": [],
   "source": [
    "label_train, label_test = sperate_train_data(ifsold)"
   ]
  },
  {
   "cell_type": "code",
   "execution_count": null,
   "metadata": {},
   "outputs": [],
   "source": [
    "from sklearn import tree\n",
    "from sklearn.metrics import accuracy_score\n",
    "\n",
    "dt = tree.DecisionTreeClassifier(min_samples_split=300)#(min_samples_split= 400)\n",
    "dt = dt.fit(feature_train, label_train)\n",
    "pred_dt = dt.predict(feature_test)\n",
    "pred2_dt = dt.predict(feature_train)\n",
    "print(accuracy_score(label_test, pred_dt), accuracy_score(label_train, pred2_dt))"
   ]
  },
  {
   "cell_type": "code",
   "execution_count": null,
   "metadata": {},
   "outputs": [],
   "source": [
    "importances = dt.feature_importances_\n",
    "print(importances.argsort())"
   ]
  },
  {
   "cell_type": "code",
   "execution_count": null,
   "metadata": {},
   "outputs": [],
   "source": [
    "from sklearn.naive_bayes import GaussianNB\n",
    "gnb = GaussianNB()\n",
    "gnb = gnb.fit(feature_train, label_train)\n",
    "pred_gnb = gnb.predict(feature_test)\n",
    "pred2_gnb = gnb.predict(feature_train)\n",
    "print(accuracy_score(label_test, pred_gnb), accuracy_score(label_train, pred2_gnb))"
   ]
  },
  {
   "cell_type": "code",
   "execution_count": null,
   "metadata": {},
   "outputs": [],
   "source": []
  }
 ],
 "metadata": {
  "kernelspec": {
   "display_name": "Python 3",
   "language": "python",
   "name": "python3"
  },
  "language_info": {
   "codemirror_mode": {
    "name": "ipython",
    "version": 3
   },
   "file_extension": ".py",
   "mimetype": "text/x-python",
   "name": "python",
   "nbconvert_exporter": "python",
   "pygments_lexer": "ipython3",
   "version": "3.6.3"
  }
 },
 "nbformat": 4,
 "nbformat_minor": 2
}
